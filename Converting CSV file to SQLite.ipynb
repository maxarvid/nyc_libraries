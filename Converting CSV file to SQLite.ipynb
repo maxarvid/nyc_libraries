{
 "cells": [
  {
   "cell_type": "code",
   "execution_count": 10,
   "metadata": {},
   "outputs": [],
   "source": [
    "import pandas as pd\n",
    "import sqlite3"
   ]
  },
  {
   "cell_type": "code",
   "execution_count": 11,
   "metadata": {},
   "outputs": [
    {
     "data": {
      "text/html": [
       "<div>\n",
       "<style scoped>\n",
       "    .dataframe tbody tr th:only-of-type {\n",
       "        vertical-align: middle;\n",
       "    }\n",
       "\n",
       "    .dataframe tbody tr th {\n",
       "        vertical-align: top;\n",
       "    }\n",
       "\n",
       "    .dataframe thead th {\n",
       "        text-align: right;\n",
       "    }\n",
       "</style>\n",
       "<table border=\"1\" class=\"dataframe\">\n",
       "  <thead>\n",
       "    <tr style=\"text-align: right;\">\n",
       "      <th></th>\n",
       "      <th>the_geom</th>\n",
       "      <th>NAME</th>\n",
       "      <th>STREETNAME</th>\n",
       "      <th>HOUSENUM</th>\n",
       "      <th>CITY</th>\n",
       "      <th>ZIP</th>\n",
       "      <th>URL</th>\n",
       "      <th>BIN</th>\n",
       "      <th>BBL</th>\n",
       "      <th>X</th>\n",
       "      <th>Y</th>\n",
       "      <th>SYSTEM</th>\n",
       "      <th>BOROCODE</th>\n",
       "    </tr>\n",
       "  </thead>\n",
       "  <tbody>\n",
       "    <tr>\n",
       "      <th>0</th>\n",
       "      <td>POINT (-73.95353074430393 40.80297988196676)</td>\n",
       "      <td>115th Street</td>\n",
       "      <td>West 115th Street</td>\n",
       "      <td>203</td>\n",
       "      <td>New York</td>\n",
       "      <td>10026</td>\n",
       "      <td>http://www.nypl.org/locations/115th-street</td>\n",
       "      <td>1055236</td>\n",
       "      <td>1018310026</td>\n",
       "      <td>9.971151e+05</td>\n",
       "      <td>231827.652864</td>\n",
       "      <td>NYPL</td>\n",
       "      <td>1</td>\n",
       "    </tr>\n",
       "    <tr>\n",
       "      <th>1</th>\n",
       "      <td>POINT (-73.9348475633247 40.80301816141575)</td>\n",
       "      <td>125th Street</td>\n",
       "      <td>East 125th Street</td>\n",
       "      <td>224</td>\n",
       "      <td>New York</td>\n",
       "      <td>10035</td>\n",
       "      <td>http://www.nypl.org/locations/125th-street</td>\n",
       "      <td>1054674</td>\n",
       "      <td>1017890037</td>\n",
       "      <td>1.002288e+06</td>\n",
       "      <td>231844.894956</td>\n",
       "      <td>NYPL</td>\n",
       "      <td>1</td>\n",
       "    </tr>\n",
       "  </tbody>\n",
       "</table>\n",
       "</div>"
      ],
      "text/plain": [
       "                                       the_geom          NAME  \\\n",
       "0  POINT (-73.95353074430393 40.80297988196676)  115th Street   \n",
       "1   POINT (-73.9348475633247 40.80301816141575)  125th Street   \n",
       "\n",
       "          STREETNAME HOUSENUM      CITY    ZIP  \\\n",
       "0  West 115th Street      203  New York  10026   \n",
       "1  East 125th Street      224  New York  10035   \n",
       "\n",
       "                                          URL      BIN         BBL  \\\n",
       "0  http://www.nypl.org/locations/115th-street  1055236  1018310026   \n",
       "1  http://www.nypl.org/locations/125th-street  1054674  1017890037   \n",
       "\n",
       "              X              Y SYSTEM  BOROCODE  \n",
       "0  9.971151e+05  231827.652864   NYPL         1  \n",
       "1  1.002288e+06  231844.894956   NYPL         1  "
      ]
     },
     "execution_count": 11,
     "metadata": {},
     "output_type": "execute_result"
    }
   ],
   "source": [
    "df = pd.read_csv('library_raw.csv')\n",
    "df.head(2)"
   ]
  },
  {
   "cell_type": "code",
   "execution_count": 12,
   "metadata": {},
   "outputs": [],
   "source": [
    "df['longitude'] = df.the_geom.str.extract(r\"POINT [(](.*)[ ]\").astype(float)"
   ]
  },
  {
   "cell_type": "code",
   "execution_count": 13,
   "metadata": {},
   "outputs": [],
   "source": [
    "df['latitude'] = df.the_geom.str.extract(r\"(\\d+[.]\\d+)[)]$\").astype(float)"
   ]
  },
  {
   "cell_type": "code",
   "execution_count": 14,
   "metadata": {},
   "outputs": [],
   "source": [
    "df['dbn'] = df.BIN"
   ]
  },
  {
   "cell_type": "code",
   "execution_count": 15,
   "metadata": {},
   "outputs": [
    {
     "data": {
      "text/plain": [
       "the_geom       object\n",
       "NAME           object\n",
       "STREETNAME     object\n",
       "HOUSENUM       object\n",
       "CITY           object\n",
       "ZIP             int64\n",
       "URL            object\n",
       "BIN             int64\n",
       "BBL             int64\n",
       "X             float64\n",
       "Y             float64\n",
       "SYSTEM         object\n",
       "BOROCODE        int64\n",
       "longitude     float64\n",
       "latitude      float64\n",
       "dbn             int64\n",
       "dtype: object"
      ]
     },
     "execution_count": 15,
     "metadata": {},
     "output_type": "execute_result"
    }
   ],
   "source": [
    "df.dtypes"
   ]
  },
  {
   "cell_type": "code",
   "execution_count": 16,
   "metadata": {},
   "outputs": [
    {
     "data": {
      "text/plain": [
       "['dbn',\n",
       " 'the_geom',\n",
       " 'NAME',\n",
       " 'STREETNAME',\n",
       " 'HOUSENUM',\n",
       " 'CITY',\n",
       " 'ZIP',\n",
       " 'URL',\n",
       " 'BIN',\n",
       " 'BBL',\n",
       " 'X',\n",
       " 'Y',\n",
       " 'SYSTEM',\n",
       " 'BOROCODE',\n",
       " 'longitude',\n",
       " 'latitude']"
      ]
     },
     "execution_count": 16,
     "metadata": {},
     "output_type": "execute_result"
    }
   ],
   "source": [
    "cols = df.columns.tolist()\n",
    "cols = cols[-1:] + cols[:-1]\n",
    "cols"
   ]
  },
  {
   "cell_type": "code",
   "execution_count": 17,
   "metadata": {},
   "outputs": [
    {
     "data": {
      "text/html": [
       "<div>\n",
       "<style scoped>\n",
       "    .dataframe tbody tr th:only-of-type {\n",
       "        vertical-align: middle;\n",
       "    }\n",
       "\n",
       "    .dataframe tbody tr th {\n",
       "        vertical-align: top;\n",
       "    }\n",
       "\n",
       "    .dataframe thead th {\n",
       "        text-align: right;\n",
       "    }\n",
       "</style>\n",
       "<table border=\"1\" class=\"dataframe\">\n",
       "  <thead>\n",
       "    <tr style=\"text-align: right;\">\n",
       "      <th></th>\n",
       "      <th>dbn</th>\n",
       "      <th>the_geom</th>\n",
       "      <th>NAME</th>\n",
       "      <th>STREETNAME</th>\n",
       "      <th>HOUSENUM</th>\n",
       "      <th>CITY</th>\n",
       "      <th>ZIP</th>\n",
       "      <th>URL</th>\n",
       "      <th>BIN</th>\n",
       "      <th>BBL</th>\n",
       "      <th>X</th>\n",
       "      <th>Y</th>\n",
       "      <th>SYSTEM</th>\n",
       "      <th>BOROCODE</th>\n",
       "      <th>longitude</th>\n",
       "      <th>latitude</th>\n",
       "    </tr>\n",
       "  </thead>\n",
       "  <tbody>\n",
       "    <tr>\n",
       "      <th>0</th>\n",
       "      <td>1055236</td>\n",
       "      <td>POINT (-73.95353074430393 40.80297988196676)</td>\n",
       "      <td>115th Street</td>\n",
       "      <td>West 115th Street</td>\n",
       "      <td>203</td>\n",
       "      <td>New York</td>\n",
       "      <td>10026</td>\n",
       "      <td>http://www.nypl.org/locations/115th-street</td>\n",
       "      <td>1055236</td>\n",
       "      <td>1018310026</td>\n",
       "      <td>9.971151e+05</td>\n",
       "      <td>231827.652864</td>\n",
       "      <td>NYPL</td>\n",
       "      <td>1</td>\n",
       "      <td>-73.953531</td>\n",
       "      <td>40.802980</td>\n",
       "    </tr>\n",
       "    <tr>\n",
       "      <th>1</th>\n",
       "      <td>1054674</td>\n",
       "      <td>POINT (-73.9348475633247 40.80301816141575)</td>\n",
       "      <td>125th Street</td>\n",
       "      <td>East 125th Street</td>\n",
       "      <td>224</td>\n",
       "      <td>New York</td>\n",
       "      <td>10035</td>\n",
       "      <td>http://www.nypl.org/locations/125th-street</td>\n",
       "      <td>1054674</td>\n",
       "      <td>1017890037</td>\n",
       "      <td>1.002288e+06</td>\n",
       "      <td>231844.894956</td>\n",
       "      <td>NYPL</td>\n",
       "      <td>1</td>\n",
       "      <td>-73.934848</td>\n",
       "      <td>40.803018</td>\n",
       "    </tr>\n",
       "  </tbody>\n",
       "</table>\n",
       "</div>"
      ],
      "text/plain": [
       "       dbn                                      the_geom          NAME  \\\n",
       "0  1055236  POINT (-73.95353074430393 40.80297988196676)  115th Street   \n",
       "1  1054674   POINT (-73.9348475633247 40.80301816141575)  125th Street   \n",
       "\n",
       "          STREETNAME HOUSENUM      CITY    ZIP  \\\n",
       "0  West 115th Street      203  New York  10026   \n",
       "1  East 125th Street      224  New York  10035   \n",
       "\n",
       "                                          URL      BIN         BBL  \\\n",
       "0  http://www.nypl.org/locations/115th-street  1055236  1018310026   \n",
       "1  http://www.nypl.org/locations/125th-street  1054674  1017890037   \n",
       "\n",
       "              X              Y SYSTEM  BOROCODE  longitude   latitude  \n",
       "0  9.971151e+05  231827.652864   NYPL         1 -73.953531  40.802980  \n",
       "1  1.002288e+06  231844.894956   NYPL         1 -73.934848  40.803018  "
      ]
     },
     "execution_count": 17,
     "metadata": {},
     "output_type": "execute_result"
    }
   ],
   "source": [
    "df = df[cols]\n",
    "df.head(2)"
   ]
  },
  {
   "cell_type": "code",
   "execution_count": 18,
   "metadata": {},
   "outputs": [],
   "source": [
    "df.to_csv('library.csv', index=False)"
   ]
  },
  {
   "cell_type": "code",
   "execution_count": 19,
   "metadata": {},
   "outputs": [],
   "source": [
    "conn = sqlite3.connect('libraries.db')"
   ]
  },
  {
   "cell_type": "code",
   "execution_count": 20,
   "metadata": {},
   "outputs": [],
   "source": [
    "df.to_sql('libraries', conn)"
   ]
  },
  {
   "cell_type": "code",
   "execution_count": null,
   "metadata": {},
   "outputs": [],
   "source": []
  }
 ],
 "metadata": {
  "kernelspec": {
   "display_name": "Python 3",
   "language": "python",
   "name": "python3"
  },
  "language_info": {
   "codemirror_mode": {
    "name": "ipython",
    "version": 3
   },
   "file_extension": ".py",
   "mimetype": "text/x-python",
   "name": "python",
   "nbconvert_exporter": "python",
   "pygments_lexer": "ipython3",
   "version": "3.6.4"
  }
 },
 "nbformat": 4,
 "nbformat_minor": 2
}
